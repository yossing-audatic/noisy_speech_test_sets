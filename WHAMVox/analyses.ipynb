{
 "cells": [
  {
   "cell_type": "code",
   "execution_count": 8,
   "metadata": {
    "collapsed": true
   },
   "outputs": [],
   "source": [
    "import os\n",
    "import random\n",
    "\n",
    "import matplotlib.pyplot as plt\n",
    "import numpy as np\n",
    "import pandas as pd\n",
    "from scipy import stats\n",
    "from scipy.io import wavfile\n",
    "import collections"
   ]
  },
  {
   "cell_type": "code",
   "execution_count": 9,
   "outputs": [],
   "source": [
    "DATA_DIR = \"/path/to/downloaded/WHAM/Vox/datasets\"\n",
    "WORKING_DIR = \"/path/to/working/dir\""
   ],
   "metadata": {
    "collapsed": false,
    "pycharm": {
     "name": "#%%\n"
    }
   }
  },
  {
   "cell_type": "markdown",
   "source": [
    "# WHAM noise files\n",
    "\n",
    "We only take the files with SNR (calculate by the dataset creators) lower than a\n",
    "certain threshold to remove the probability of there being audible speech in the noise."
   ],
   "metadata": {
    "collapsed": false,
    "pycharm": {
     "name": "#%% md\n"
    }
   }
  },
  {
   "cell_type": "code",
   "execution_count": 10,
   "outputs": [
    {
     "name": "stdout",
     "output_type": "stream",
     "text": [
      "Number of WHAM test noise files: 3000.\n"
     ]
    }
   ],
   "source": [
    "# Load data and remove entries with SNR below threshold.\n",
    "wham_test = pd.read_csv(os.path.join(DATA_DIR, \"wham_noise\", \"metadata\", \"noise_meta_tt.csv\"))\n",
    "print(f\"Number of WHAM test noise files: {len(wham_test):d}.\")"
   ],
   "metadata": {
    "collapsed": false,
    "pycharm": {
     "name": "#%%\n"
    }
   }
  },
  {
   "cell_type": "code",
   "execution_count": 11,
   "outputs": [
    {
     "data": {
      "text/plain": "<AxesSubplot:ylabel='Density'>"
     },
     "execution_count": 11,
     "metadata": {},
     "output_type": "execute_result"
    },
    {
     "data": {
      "text/plain": "<Figure size 432x288 with 1 Axes>",
      "image/png": "[encoded data removed]"
     },
     "metadata": {
      "needs_background": "light"
     },
     "output_type": "display_data"
    }
   ],
   "source": [
    "# Plot SNR values they provide.\n",
    "wham_test[\"noise_snr\"].plot(kind=\"kde\")"
   ],
   "metadata": {
    "collapsed": false,
    "pycharm": {
     "name": "#%%\n"
    }
   }
  },
  {
   "cell_type": "code",
   "execution_count": 12,
   "outputs": [
    {
     "name": "stdout",
     "output_type": "stream",
     "text": [
      "Number of files with estimated SNR below threshold of -12dB: 1941.\n"
     ]
    },
    {
     "data": {
      "text/plain": "                               utterance_id  \\\n0    445c0206_0.60431_22gc0105_-0.60431.wav   \n1      420c020h_1.1139_442c0203_-1.1139.wav   \n2  22go0107_0.079969_051c010u_-0.079969.wav   \n3      444o0314_2.1819_053o020e_-2.1819.wav   \n4        423o0304_1.419_420c020x_-1.419.wav   \n\n                                          noise_file  start_sample_16k  \\\n0  CalafiaTaqueria1facingeastat17_2018-11-16_11.4...          10259576   \n1  CalafiaTaqueria1facingeastat17_2018-11-16_11.4...           8860058   \n2  MakeWesting416minus30fromeast_2018-11-14_20.43...           7877497   \n3  WholeFoodsCafeTest1._2018-10-23_15.06.39_T001_...          18044582   \n4  CalafiaTaqueria1facingeastat17_2018-11-16_11.4...          10299938   \n\n   end_sample_16k  noise_snr  \n0        10374514 -19.342613  \n1         9035388 -17.904564  \n2         8102501 -13.970667  \n3        18228848 -12.185235  \n4        10448472 -23.142106  ",
      "text/html": "<div>\n<style scoped>\n    .dataframe tbody tr th:only-of-type {\n        vertical-align: middle;\n    }\n\n    .dataframe tbody tr th {\n        vertical-align: top;\n    }\n\n    .dataframe thead th {\n        text-align: right;\n    }\n</style>\n<table border=\"1\" class=\"dataframe\">\n  <thead>\n    <tr style=\"text-align: right;\">\n      <th></th>\n      <th>utterance_id</th>\n      <th>noise_file</th>\n      <th>start_sample_16k</th>\n      <th>end_sample_16k</th>\n      <th>noise_snr</th>\n    </tr>\n  </thead>\n  <tbody>\n    <tr>\n      <th>0</th>\n      <td>445c0206_0.60431_22gc0105_-0.60431.wav</td>\n      <td>CalafiaTaqueria1facingeastat17_2018-11-16_11.4...</td>\n      <td>10259576</td>\n      <td>10374514</td>\n      <td>-19.342613</td>\n    </tr>\n    <tr>\n      <th>1</th>\n      <td>420c020h_1.1139_442c0203_-1.1139.wav</td>\n      <td>CalafiaTaqueria1facingeastat17_2018-11-16_11.4...</td>\n      <td>8860058</td>\n      <td>9035388</td>\n      <td>-17.904564</td>\n    </tr>\n    <tr>\n      <th>2</th>\n      <td>22go0107_0.079969_051c010u_-0.079969.wav</td>\n      <td>MakeWesting416minus30fromeast_2018-11-14_20.43...</td>\n      <td>7877497</td>\n      <td>8102501</td>\n      <td>-13.970667</td>\n    </tr>\n    <tr>\n      <th>3</th>\n      <td>444o0314_2.1819_053o020e_-2.1819.wav</td>\n      <td>WholeFoodsCafeTest1._2018-10-23_15.06.39_T001_...</td>\n      <td>18044582</td>\n      <td>18228848</td>\n      <td>-12.185235</td>\n    </tr>\n    <tr>\n      <th>4</th>\n      <td>423o0304_1.419_420c020x_-1.419.wav</td>\n      <td>CalafiaTaqueria1facingeastat17_2018-11-16_11.4...</td>\n      <td>10299938</td>\n      <td>10448472</td>\n      <td>-23.142106</td>\n    </tr>\n  </tbody>\n</table>\n</div>"
     },
     "execution_count": 12,
     "metadata": {},
     "output_type": "execute_result"
    }
   ],
   "source": [
    "# Remove files below SNR threshold. The SNR provided by WHAM is not always accurate.\n",
    "# In other experiments, we observed that specifying an SNR cutoff of -12, leads to\n",
    "# most files actually having an SNR below -6 dB.\n",
    "threshold_snr_wham = -12\n",
    "\n",
    "wham_test = wham_test[wham_test[\"noise_snr\"] <= threshold_snr_wham]\n",
    "print(f\"Number of files with estimated SNR below threshold of {threshold_snr_wham:d}dB: {len(wham_test)}.\")\n",
    "\n",
    "wham_test.head()"
   ],
   "metadata": {
    "collapsed": false,
    "pycharm": {
     "name": "#%%\n"
    }
   }
  },
  {
   "cell_type": "code",
   "execution_count": 13,
   "outputs": [
    {
     "name": "stderr",
     "output_type": "stream",
     "text": [
      "/Users/225pmeyerrac/python/datasets/venv/lib/python3.7/site-packages/audiotools/audio_segment.py:1173: WavFileWarning: Chunk (non-data) not understood, skipping it.\n",
      "  fs, data = wavfile.read(file)\n"
     ]
    },
    {
     "name": "stdout",
     "output_type": "stream",
     "text": [
      "Min duration: 4.534625\n",
      "Max duration: 22.37625\n",
      "Average duration: 10.775349658681092\n"
     ]
    },
    {
     "data": {
      "text/plain": "                               utterance_id  \\\n0    445c0206_0.60431_22gc0105_-0.60431.wav   \n1      420c020h_1.1139_442c0203_-1.1139.wav   \n2  22go0107_0.079969_051c010u_-0.079969.wav   \n3      444o0314_2.1819_053o020e_-2.1819.wav   \n4        423o0304_1.419_420c020x_-1.419.wav   \n\n                                          noise_file  start_sample_16k  \\\n0  CalafiaTaqueria1facingeastat17_2018-11-16_11.4...          10259576   \n1  CalafiaTaqueria1facingeastat17_2018-11-16_11.4...           8860058   \n2  MakeWesting416minus30fromeast_2018-11-14_20.43...           7877497   \n3  WholeFoodsCafeTest1._2018-10-23_15.06.39_T001_...          18044582   \n4  CalafiaTaqueria1facingeastat17_2018-11-16_11.4...          10299938   \n\n   end_sample_16k  noise_snr   duration  \n0        10374514 -19.342613   7.183625  \n1         9035388 -17.904564  10.958125  \n2         8102501 -13.970667  14.062750  \n3        18228848 -12.185235  11.516625  \n4        10448472 -23.142106   9.283375  ",
      "text/html": "<div>\n<style scoped>\n    .dataframe tbody tr th:only-of-type {\n        vertical-align: middle;\n    }\n\n    .dataframe tbody tr th {\n        vertical-align: top;\n    }\n\n    .dataframe thead th {\n        text-align: right;\n    }\n</style>\n<table border=\"1\" class=\"dataframe\">\n  <thead>\n    <tr style=\"text-align: right;\">\n      <th></th>\n      <th>utterance_id</th>\n      <th>noise_file</th>\n      <th>start_sample_16k</th>\n      <th>end_sample_16k</th>\n      <th>noise_snr</th>\n      <th>duration</th>\n    </tr>\n  </thead>\n  <tbody>\n    <tr>\n      <th>0</th>\n      <td>445c0206_0.60431_22gc0105_-0.60431.wav</td>\n      <td>CalafiaTaqueria1facingeastat17_2018-11-16_11.4...</td>\n      <td>10259576</td>\n      <td>10374514</td>\n      <td>-19.342613</td>\n      <td>7.183625</td>\n    </tr>\n    <tr>\n      <th>1</th>\n      <td>420c020h_1.1139_442c0203_-1.1139.wav</td>\n      <td>CalafiaTaqueria1facingeastat17_2018-11-16_11.4...</td>\n      <td>8860058</td>\n      <td>9035388</td>\n      <td>-17.904564</td>\n      <td>10.958125</td>\n    </tr>\n    <tr>\n      <th>2</th>\n      <td>22go0107_0.079969_051c010u_-0.079969.wav</td>\n      <td>MakeWesting416minus30fromeast_2018-11-14_20.43...</td>\n      <td>7877497</td>\n      <td>8102501</td>\n      <td>-13.970667</td>\n      <td>14.062750</td>\n    </tr>\n    <tr>\n      <th>3</th>\n      <td>444o0314_2.1819_053o020e_-2.1819.wav</td>\n      <td>WholeFoodsCafeTest1._2018-10-23_15.06.39_T001_...</td>\n      <td>18044582</td>\n      <td>18228848</td>\n      <td>-12.185235</td>\n      <td>11.516625</td>\n    </tr>\n    <tr>\n      <th>4</th>\n      <td>423o0304_1.419_420c020x_-1.419.wav</td>\n      <td>CalafiaTaqueria1facingeastat17_2018-11-16_11.4...</td>\n      <td>10299938</td>\n      <td>10448472</td>\n      <td>-23.142106</td>\n      <td>9.283375</td>\n    </tr>\n  </tbody>\n</table>\n</div>"
     },
     "execution_count": 13,
     "metadata": {},
     "output_type": "execute_result"
    }
   ],
   "source": [
    "# Calculation duration of all snippets.\n",
    "duration = {}\n",
    "for index, row in wham_test.iterrows():\n",
    "    fs, audio_data = wavfile.read(os.path.join(DATA_DIR, \"wham_noise\", \"tt\", row[\"utterance_id\"]))\n",
    "    duration[index] = audio_data.shape[0] / fs\n",
    "\n",
    "duration = pd.DataFrame.from_dict(duration, orient=\"index\", columns=[\"duration\"])\n",
    "wham_test = wham_test.join(duration)\n",
    "\n",
    "print(\"Min duration:\", float(duration.min()))\n",
    "print(\"Max duration:\", float(duration.max()))\n",
    "print(\"Average duration:\", float(duration.mean()))\n",
    "wham_test.head()"
   ],
   "metadata": {
    "collapsed": false,
    "pycharm": {
     "name": "#%%\n"
    }
   }
  },
  {
   "cell_type": "code",
   "execution_count": 14,
   "outputs": [
    {
     "data": {
      "text/plain": "<AxesSubplot:ylabel='Density'>"
     },
     "execution_count": 14,
     "metadata": {},
     "output_type": "execute_result"
    },
    {
     "data": {
      "text/plain": "<Figure size 432x288 with 1 Axes>",
      "image/png": "[encoded data removed]"
     },
     "metadata": {
      "needs_background": "light"
     },
     "output_type": "display_data"
    }
   ],
   "source": [
    "wham_test.duration.plot(kind=\"kde\")"
   ],
   "metadata": {
    "collapsed": false,
    "pycharm": {
     "name": "#%%\n"
    }
   }
  },
  {
   "cell_type": "markdown",
   "source": [
    "# Vox2 speech files\n",
    "\n",
    "Use the test set from the vox2 dataset.\n",
    "\n",
    "To make sure we do not accidentally train on samples in the test set, we compare\n",
    "the database (it's actually more like a DataFrame but whatever) of our `dataset_v9`\n",
    "files with the files in the test set we downloaded."
   ],
   "metadata": {
    "collapsed": false,
    "pycharm": {
     "name": "#%% md\n"
    }
   }
  },
  {
   "cell_type": "code",
   "execution_count": 15,
   "outputs": [
    {
     "data": {
      "text/plain": "  dataset     name  accent  age  language  podcast sex speaker_id  subdataset  \\\n0    vox2  id00012     NaN  NaN       NaN      NaN   m    id00012         NaN   \n1    vox2  id00015     NaN  NaN       NaN      NaN   m    id00015         NaN   \n2    vox2  id00016     NaN  NaN       NaN      NaN   m    id00016         NaN   \n3    vox2  id00018     NaN  NaN       NaN      NaN   m    id00018         NaN   \n4    vox2  id00019     NaN  NaN       NaN      NaN   m    id00019         NaN   \n\n  subset      type  \n0  train  speakers  \n1   test  speakers  \n2  train  speakers  \n3  train  speakers  \n4  train  speakers  ",
      "text/html": "<div>\n<style scoped>\n    .dataframe tbody tr th:only-of-type {\n        vertical-align: middle;\n    }\n\n    .dataframe tbody tr th {\n        vertical-align: top;\n    }\n\n    .dataframe thead th {\n        text-align: right;\n    }\n</style>\n<table border=\"1\" class=\"dataframe\">\n  <thead>\n    <tr style=\"text-align: right;\">\n      <th></th>\n      <th>dataset</th>\n      <th>name</th>\n      <th>accent</th>\n      <th>age</th>\n      <th>language</th>\n      <th>podcast</th>\n      <th>sex</th>\n      <th>speaker_id</th>\n      <th>subdataset</th>\n      <th>subset</th>\n      <th>type</th>\n    </tr>\n  </thead>\n  <tbody>\n    <tr>\n      <th>0</th>\n      <td>vox2</td>\n      <td>id00012</td>\n      <td>NaN</td>\n      <td>NaN</td>\n      <td>NaN</td>\n      <td>NaN</td>\n      <td>m</td>\n      <td>id00012</td>\n      <td>NaN</td>\n      <td>train</td>\n      <td>speakers</td>\n    </tr>\n    <tr>\n      <th>1</th>\n      <td>vox2</td>\n      <td>id00015</td>\n      <td>NaN</td>\n      <td>NaN</td>\n      <td>NaN</td>\n      <td>NaN</td>\n      <td>m</td>\n      <td>id00015</td>\n      <td>NaN</td>\n      <td>test</td>\n      <td>speakers</td>\n    </tr>\n    <tr>\n      <th>2</th>\n      <td>vox2</td>\n      <td>id00016</td>\n      <td>NaN</td>\n      <td>NaN</td>\n      <td>NaN</td>\n      <td>NaN</td>\n      <td>m</td>\n      <td>id00016</td>\n      <td>NaN</td>\n      <td>train</td>\n      <td>speakers</td>\n    </tr>\n    <tr>\n      <th>3</th>\n      <td>vox2</td>\n      <td>id00018</td>\n      <td>NaN</td>\n      <td>NaN</td>\n      <td>NaN</td>\n      <td>NaN</td>\n      <td>m</td>\n      <td>id00018</td>\n      <td>NaN</td>\n      <td>train</td>\n      <td>speakers</td>\n    </tr>\n    <tr>\n      <th>4</th>\n      <td>vox2</td>\n      <td>id00019</td>\n      <td>NaN</td>\n      <td>NaN</td>\n      <td>NaN</td>\n      <td>NaN</td>\n      <td>m</td>\n      <td>id00019</td>\n      <td>NaN</td>\n      <td>train</td>\n      <td>speakers</td>\n    </tr>\n  </tbody>\n</table>\n</div>"
     },
     "execution_count": 15,
     "metadata": {},
     "output_type": "execute_result"
    }
   ],
   "source": [
    "# Load database of files in `dataset_v9`.\n",
    "database_speech = pd.read_csv(os.path.join(WORKING_DIR, \"dataset_v9_speech_files.csv\"))\n",
    "vox2_ours = database_speech[(database_speech[\"dataset\"] == \"vox2\")]\n",
    "vox2_ours.head()"
   ],
   "metadata": {
    "collapsed": false,
    "pycharm": {
     "name": "#%%\n"
    }
   }
  },
  {
   "cell_type": "code",
   "execution_count": 16,
   "outputs": [
    {
     "name": "stdout",
     "output_type": "stream",
     "text": [
      "Number of total test examples: 36237\n"
     ]
    },
    {
     "data": {
      "text/plain": "                            file  snr_estimate  duration speaker_id\n0  id00017/01dfn2spqyE/00001.wav     13.377181  4.288027    id00017\n1  id00017/5MkXgwdrmJw/00002.wav     11.646829  7.936009    id00017\n2  id00017/7t6lfzvVaTM/00003.wav     21.811348  9.024036    id00017\n3  id00017/7t6lfzvVaTM/00004.wav     18.984568  4.928027    id00017\n4  id00017/7t6lfzvVaTM/00005.wav     17.977202  5.568027    id00017",
      "text/html": "<div>\n<style scoped>\n    .dataframe tbody tr th:only-of-type {\n        vertical-align: middle;\n    }\n\n    .dataframe tbody tr th {\n        vertical-align: top;\n    }\n\n    .dataframe thead th {\n        text-align: right;\n    }\n</style>\n<table border=\"1\" class=\"dataframe\">\n  <thead>\n    <tr style=\"text-align: right;\">\n      <th></th>\n      <th>file</th>\n      <th>snr_estimate</th>\n      <th>duration</th>\n      <th>speaker_id</th>\n    </tr>\n  </thead>\n  <tbody>\n    <tr>\n      <th>0</th>\n      <td>id00017/01dfn2spqyE/00001.wav</td>\n      <td>13.377181</td>\n      <td>4.288027</td>\n      <td>id00017</td>\n    </tr>\n    <tr>\n      <th>1</th>\n      <td>id00017/5MkXgwdrmJw/00002.wav</td>\n      <td>11.646829</td>\n      <td>7.936009</td>\n      <td>id00017</td>\n    </tr>\n    <tr>\n      <th>2</th>\n      <td>id00017/7t6lfzvVaTM/00003.wav</td>\n      <td>21.811348</td>\n      <td>9.024036</td>\n      <td>id00017</td>\n    </tr>\n    <tr>\n      <th>3</th>\n      <td>id00017/7t6lfzvVaTM/00004.wav</td>\n      <td>18.984568</td>\n      <td>4.928027</td>\n      <td>id00017</td>\n    </tr>\n    <tr>\n      <th>4</th>\n      <td>id00017/7t6lfzvVaTM/00005.wav</td>\n      <td>17.977202</td>\n      <td>5.568027</td>\n      <td>id00017</td>\n    </tr>\n  </tbody>\n</table>\n</div>"
     },
     "execution_count": 16,
     "metadata": {},
     "output_type": "execute_result"
    }
   ],
   "source": [
    "# This csv contains all the files in the downloaded test set.\n",
    "vox2 = pd.read_csv(os.path.join(WORKING_DIR, \"estimated_snr_vox2.csv\"), header=0)\n",
    "vox2[\"speaker_id\"] = vox2[\"file\"].map(lambda x: x.split(\"/\")[0])\n",
    "print(\"Number of total test examples:\", len(vox2))\n",
    "vox2.head()"
   ],
   "metadata": {
    "collapsed": false,
    "pycharm": {
     "name": "#%%\n"
    }
   }
  },
  {
   "cell_type": "code",
   "source": [
    "# Now we check that there is no overlapping speaker IDs. The intersection should be\n",
    "# empty.\n",
    "assert set(vox2[\"speaker_id\"]).intersection(set(vox2_ours[\"speaker_id\"])) == set()"
   ],
   "metadata": {
    "collapsed": false,
    "pycharm": {
     "name": "#%%\n"
    }
   },
   "execution_count": 17,
   "outputs": []
  },
  {
   "cell_type": "markdown",
   "source": [
    "Analyse SNR and duration of Vox2 speech files."
   ],
   "metadata": {
    "collapsed": false,
    "pycharm": {
     "name": "#%% md\n"
    }
   }
  },
  {
   "cell_type": "code",
   "execution_count": 18,
   "outputs": [
    {
     "data": {
      "text/plain": "(0.0, 10.0)"
     },
     "execution_count": 18,
     "metadata": {},
     "output_type": "execute_result"
    },
    {
     "data": {
      "text/plain": "<Figure size 432x576 with 2 Axes>",
      "image/png": "[encoded data removed]"
     },
     "metadata": {
      "needs_background": "light"
     },
     "output_type": "display_data"
    }
   ],
   "source": [
    "fig, axes = plt.subplots(nrows=2, ncols=1, figsize=(6, 8))\n",
    "vox2[\"snr_estimate\"].plot(kind=\"kde\", ax=axes[0])\n",
    "axes[0].grid()\n",
    "axes[0].set_xlim(0, 30)\n",
    "axes[0].set_xlabel(\"Estimated SNR [dB]\")\n",
    "\n",
    "vox2[\"duration\"].plot(kind=\"kde\", ax=axes[1])\n",
    "axes[1].grid()\n",
    "axes[1].set_xlabel(\"Duration [s]\")\n",
    "axes[1].set_xlim(0, 10)\n"
   ],
   "metadata": {
    "collapsed": false,
    "pycharm": {
     "name": "#%%\n"
    }
   }
  },
  {
   "cell_type": "markdown",
   "source": [
    "Keep only files from the Vox2 data with high duration and SNR. There are so many that we can afford\n",
    "to be picky."
   ],
   "metadata": {
    "collapsed": false,
    "pycharm": {
     "name": "#%% md\n"
    }
   }
  },
  {
   "cell_type": "code",
   "execution_count": 19,
   "outputs": [
    {
     "name": "stdout",
     "output_type": "stream",
     "text": [
      "Number of samples meeting the requirements: 5737\n",
      "Number of distinct speakers: 116\n"
     ]
    }
   ],
   "source": [
    "threshold_snr_vox2 = 20\n",
    "minimum_duration = 8\n",
    "\n",
    "vox2 = vox2[(vox2[\"duration\"] >= minimum_duration) & (vox2[\"snr_estimate\"] >= threshold_snr_vox2)]\n",
    "print(\"Number of samples meeting the requirements:\", len(vox2))\n",
    "print(\"Number of distinct speakers:\", vox2[\"speaker_id\"].nunique())"
   ],
   "metadata": {
    "collapsed": false,
    "pycharm": {
     "name": "#%%\n"
    }
   }
  },
  {
   "cell_type": "markdown",
   "source": [
    "Plot number of examples per speaker."
   ],
   "metadata": {
    "collapsed": false,
    "pycharm": {
     "name": "#%% md\n"
    }
   }
  },
  {
   "cell_type": "code",
   "execution_count": 20,
   "outputs": [
    {
     "data": {
      "text/plain": "Text(0.5, 0, 'Number of examples per speaker')"
     },
     "execution_count": 20,
     "metadata": {},
     "output_type": "execute_result"
    },
    {
     "data": {
      "text/plain": "<Figure size 432x288 with 1 Axes>",
      "image/png": "[encoded data removed]"
     },
     "metadata": {
      "needs_background": "light"
     },
     "output_type": "display_data"
    }
   ],
   "source": [
    "vox2_speakers = vox2.groupby(\"speaker_id\").count()[\"file\"]\n",
    "fix, *axes = plt.subplots()\n",
    "vox2_speakers.plot(kind=\"hist\", ax=axes[0], bins=20)\n",
    "axes[0].set_xlabel(\"Number of examples per speaker\")"
   ],
   "metadata": {
    "collapsed": false,
    "pycharm": {
     "name": "#%%\n"
    }
   }
  },
  {
   "cell_type": "markdown",
   "source": [
    "Load metadata of speakers. We use this to associate speaker ID with gender and make sure\n",
    "that in the end we have a gender balanced dataset."
   ],
   "metadata": {
    "collapsed": false,
    "pycharm": {
     "name": "#%% md\n"
    }
   }
  },
  {
   "cell_type": "code",
   "execution_count": 21,
   "outputs": [
    {
     "data": {
      "text/plain": "             VGGFace2 ID Gender   Set\nVoxCeleb2 ID                         \nid00017          n000017      m  test\nid00061          n000061      m  test\nid00081          n000081      m  test\nid00154          n000154      m  test\nid00419          n000419      f  test",
      "text/html": "<div>\n<style scoped>\n    .dataframe tbody tr th:only-of-type {\n        vertical-align: middle;\n    }\n\n    .dataframe tbody tr th {\n        vertical-align: top;\n    }\n\n    .dataframe thead th {\n        text-align: right;\n    }\n</style>\n<table border=\"1\" class=\"dataframe\">\n  <thead>\n    <tr style=\"text-align: right;\">\n      <th></th>\n      <th>VGGFace2 ID</th>\n      <th>Gender</th>\n      <th>Set</th>\n    </tr>\n    <tr>\n      <th>VoxCeleb2 ID</th>\n      <th></th>\n      <th></th>\n      <th></th>\n    </tr>\n  </thead>\n  <tbody>\n    <tr>\n      <th>id00017</th>\n      <td>n000017</td>\n      <td>m</td>\n      <td>test</td>\n    </tr>\n    <tr>\n      <th>id00061</th>\n      <td>n000061</td>\n      <td>m</td>\n      <td>test</td>\n    </tr>\n    <tr>\n      <th>id00081</th>\n      <td>n000081</td>\n      <td>m</td>\n      <td>test</td>\n    </tr>\n    <tr>\n      <th>id00154</th>\n      <td>n000154</td>\n      <td>m</td>\n      <td>test</td>\n    </tr>\n    <tr>\n      <th>id00419</th>\n      <td>n000419</td>\n      <td>f</td>\n      <td>test</td>\n    </tr>\n  </tbody>\n</table>\n</div>"
     },
     "execution_count": 21,
     "metadata": {},
     "output_type": "execute_result"
    }
   ],
   "source": [
    "meta = pd.read_csv(os.path.join(WORKING_DIR, \"vox2_meta.csv\"))\n",
    "meta = meta.applymap(lambda x: x.strip(\" \"))\n",
    "meta.columns = meta.columns.map(lambda x: x.strip(\" \"))\n",
    "\n",
    "meta = meta.set_index(\"VoxCeleb2 ID\")\n",
    "meta = meta[meta.index.isin(set(vox2_speakers.index))]\n",
    "meta.head()"
   ],
   "metadata": {
    "collapsed": false,
    "pycharm": {
     "name": "#%%\n"
    }
   }
  },
  {
   "cell_type": "code",
   "execution_count": 22,
   "outputs": [
    {
     "data": {
      "text/plain": "Gender\nf    0.327586\nm    0.672414\nName: VGGFace2 ID, dtype: float64"
     },
     "execution_count": 22,
     "metadata": {},
     "output_type": "execute_result"
    }
   ],
   "source": [
    "# Check gender balance of total test set.\n",
    "gender_balance = (meta.groupby(\"Gender\").count() / len(meta)).iloc[:, 0]\n",
    "gender_balance"
   ],
   "metadata": {
    "collapsed": false,
    "pycharm": {
     "name": "#%%\n"
    }
   }
  },
  {
   "cell_type": "markdown",
   "source": [
    "# SNR distribution\n",
    "\n",
    "Try to approximate the distribution from [1].\n",
    "\n",
    "#### References:\n",
    "\n",
    "    [1] https://www.ncbi.nlm.nih.gov/pmc/articles/PMC5824438/figure/F4/"
   ],
   "metadata": {
    "collapsed": false,
    "pycharm": {
     "name": "#%% md\n"
    }
   }
  },
  {
   "cell_type": "code",
   "execution_count": 23,
   "outputs": [
    {
     "data": {
      "text/plain": "<Figure size 432x288 with 1 Axes>",
      "image/png": "[encoded data removed]"
     },
     "metadata": {
      "needs_background": "light"
     },
     "output_type": "display_data"
    }
   ],
   "source": [
    "dist = stats.norm(loc=8, scale=7)\n",
    "\n",
    "x = np.linspace(-20, 40, 1000)\n",
    "y = dist.pdf(x)\n",
    "\n",
    "fig, *axes = plt.subplots(nrows=1, ncols=1)\n",
    "axes[0].plot(x, y)\n",
    "axes[0].grid()"
   ],
   "metadata": {
    "collapsed": false,
    "pycharm": {
     "name": "#%%\n"
    }
   }
  },
  {
   "cell_type": "markdown",
   "source": [
    "# Do the actual mixing\n",
    "\n",
    "First, we need to select the files we want to mix. For WHAM, this is relatively easy,\n",
    "we just take the files from the dataframe."
   ],
   "metadata": {
    "collapsed": false,
    "pycharm": {
     "name": "#%% md\n"
    }
   }
  },
  {
   "cell_type": "code",
   "execution_count": 24,
   "outputs": [
    {
     "name": "stdout",
     "output_type": "stream",
     "text": [
      "Number of WHAM files: 1941\n"
     ]
    }
   ],
   "source": [
    "NUM_SAMPLES = 1941\n",
    "SEED = 42\n",
    "\n",
    "prefix_VoxCeleb = \"aac\"\n",
    "prefix_WHAM = \"tt\"\n",
    "\n",
    "files_WHAM = sorted(wham_test[\"utterance_id\"].tolist())[:NUM_SAMPLES]\n",
    "rand_WHAM = random.Random(SEED)\n",
    "rand_WHAM.shuffle(files_WHAM)\n",
    "print(\"Number of WHAM files:\", len(files_WHAM))"
   ],
   "metadata": {
    "collapsed": false,
    "pycharm": {
     "name": "#%%\n"
    }
   }
  },
  {
   "cell_type": "markdown",
   "source": [
    "For Vox, this is a little harder since we want a balanced gender distribution and not\n",
    "too many files from a single speaker."
   ],
   "metadata": {
    "collapsed": false,
    "pycharm": {
     "name": "#%% md\n"
    }
   }
  },
  {
   "cell_type": "code",
   "execution_count": 25,
   "outputs": [
    {
     "data": {
      "text/plain": "                                                     file  num_files\nGender                                                              \nf       [id00419/1zffAxBod_c/00006.wav, id00419/3CulyF...       1625\nm       [id00017/7t6lfzvVaTM/00003.wav, id00017/Ktadqx...       4112",
      "text/html": "<div>\n<style scoped>\n    .dataframe tbody tr th:only-of-type {\n        vertical-align: middle;\n    }\n\n    .dataframe tbody tr th {\n        vertical-align: top;\n    }\n\n    .dataframe thead th {\n        text-align: right;\n    }\n</style>\n<table border=\"1\" class=\"dataframe\">\n  <thead>\n    <tr style=\"text-align: right;\">\n      <th></th>\n      <th>file</th>\n      <th>num_files</th>\n    </tr>\n    <tr>\n      <th>Gender</th>\n      <th></th>\n      <th></th>\n    </tr>\n  </thead>\n  <tbody>\n    <tr>\n      <th>f</th>\n      <td>[id00419/1zffAxBod_c/00006.wav, id00419/3CulyF...</td>\n      <td>1625</td>\n    </tr>\n    <tr>\n      <th>m</th>\n      <td>[id00017/7t6lfzvVaTM/00003.wav, id00017/Ktadqx...</td>\n      <td>4112</td>\n    </tr>\n  </tbody>\n</table>\n</div>"
     },
     "execution_count": 25,
     "metadata": {},
     "output_type": "execute_result"
    }
   ],
   "source": [
    "# Get a separate list of all files for each gender.\n",
    "vox2_files = vox2.groupby(\"speaker_id\")[\"file\"].apply(list)\n",
    "vox2_files = vox2_files.to_frame().join(meta[\"Gender\"])\n",
    "vox2_files = vox2_files.groupby(\"Gender\")[\"file\"].apply(sum).to_frame()\n",
    "vox2_files[\"num_files\"] = vox2_files[\"file\"].apply(len)\n",
    "vox2_files"
   ],
   "metadata": {
    "collapsed": false,
    "pycharm": {
     "name": "#%%\n"
    }
   }
  },
  {
   "cell_type": "code",
   "execution_count": 26,
   "outputs": [
    {
     "name": "stdout",
     "output_type": "stream",
     "text": [
      "Number of VoxCeleb files: 3250\n"
     ]
    }
   ],
   "source": [
    "# Take all the female files (since there are fewer of them) and then take an equal\n",
    "# amount of male files. Then shuffle. This does not guarantee a 50/50 split but almost.\n",
    "files_VoxCeleb = []\n",
    "files_VoxCeleb += vox2_files.loc[\"f\", \"file\"]\n",
    "files_VoxCeleb += vox2_files.loc[\"m\", \"file\"][:len(files_VoxCeleb)]\n",
    "\n",
    "rand_vox = random.Random(SEED + 7)\n",
    "rand_vox.shuffle(files_VoxCeleb)\n",
    "# We need to replace the extension from wav to m4a because when estimating the SNR, the\n",
    "# file extension was wav (due to format conversion).\n",
    "files_VoxCeleb = [file.replace(\".wav\", \".m4a\") for file in files_VoxCeleb]\n",
    "print(\"Number of VoxCeleb files:\", len(files_VoxCeleb))"
   ],
   "metadata": {
    "collapsed": false,
    "pycharm": {
     "name": "#%%\n"
    }
   }
  },
  {
   "cell_type": "markdown",
   "source": [
    "Sample SNR values. These will be the \"default\" SNR values, but can be adjusted by\n",
    "the dataset generation script."
   ],
   "metadata": {
    "collapsed": false,
    "pycharm": {
     "name": "#%% md\n"
    }
   }
  },
  {
   "cell_type": "code",
   "execution_count": 27,
   "outputs": [
    {
     "data": {
      "text/plain": "(array([  3.,   8.,   9.,  32.,  68., 110., 170., 243., 254., 287., 260.,\n        181., 128.,  94.,  53.,  23.,  15.,   1.,   1.,   1.]),\n array([-14.68887138, -12.20597179,  -9.7230722 ,  -7.24017261,\n         -4.75727302,  -2.27437343,   0.20852616,   2.69142575,\n          5.17432535,   7.65722494,  10.14012453,  12.62302412,\n         15.10592371,  17.5888233 ,  20.07172289,  22.55462248,\n         25.03752207,  27.52042166,  30.00332125,  32.48622084,\n         34.96912043]),\n <BarContainer object of 20 artists>)"
     },
     "execution_count": 27,
     "metadata": {},
     "output_type": "execute_result"
    },
    {
     "data": {
      "text/plain": "<Figure size 432x288 with 1 Axes>",
      "image/png": "[encoded data removed]"
     },
     "metadata": {
      "needs_background": "light"
     },
     "output_type": "display_data"
    }
   ],
   "source": [
    "snr_values = dist.rvs(random_state=SEED, size=(NUM_SAMPLES,))\n",
    "plt.hist(snr_values, bins=20)"
   ],
   "metadata": {
    "collapsed": false,
    "pycharm": {
     "name": "#%%\n"
    }
   }
  },
  {
   "cell_type": "markdown",
   "source": [
    "Save file combination to CSV together with gender and suggested SNR."
   ],
   "metadata": {
    "collapsed": false,
    "pycharm": {
     "name": "#%% md\n"
    }
   }
  },
  {
   "cell_type": "code",
   "execution_count": 28,
   "outputs": [
    {
     "data": {
      "text/plain": "                                  file_noise  \\\n0  tt/445c020w_0.87572_22ga010s_-0.87572.wav   \n1  tt/22ga010x_0.48458_22ho0107_-0.48458.wav   \n2    tt/051a050o_1.2715_443o030c_-1.2715.wav   \n3  tt/22ha0114_0.35843_441o030e_-0.35843.wav   \n4    tt/442c020n_1.8408_444o030k_-1.8408.wav   \n\n                         file_speech        SNR gender speaker_id  \n0  aac/id00017/gjYcaCzo7UU/00107.m4a  11.476999      m    id00017  \n1  aac/id02019/X3FCAoFnmdA/00130.m4a   7.032150      m    id02019  \n2  aac/id02086/1cJl_a8WpuY/00022.m4a  12.533820      f    id02086  \n3  aac/id02057/CI5-q_qTR5I/00112.m4a  18.661209      m    id02057  \n4  aac/id01593/NuGK5k5cpoA/00279.m4a   6.360926      m    id01593  ",
      "text/html": "<div>\n<style scoped>\n    .dataframe tbody tr th:only-of-type {\n        vertical-align: middle;\n    }\n\n    .dataframe tbody tr th {\n        vertical-align: top;\n    }\n\n    .dataframe thead th {\n        text-align: right;\n    }\n</style>\n<table border=\"1\" class=\"dataframe\">\n  <thead>\n    <tr style=\"text-align: right;\">\n      <th></th>\n      <th>file_noise</th>\n      <th>file_speech</th>\n      <th>SNR</th>\n      <th>gender</th>\n      <th>speaker_id</th>\n    </tr>\n  </thead>\n  <tbody>\n    <tr>\n      <th>0</th>\n      <td>tt/445c020w_0.87572_22ga010s_-0.87572.wav</td>\n      <td>aac/id00017/gjYcaCzo7UU/00107.m4a</td>\n      <td>11.476999</td>\n      <td>m</td>\n      <td>id00017</td>\n    </tr>\n    <tr>\n      <th>1</th>\n      <td>tt/22ga010x_0.48458_22ho0107_-0.48458.wav</td>\n      <td>aac/id02019/X3FCAoFnmdA/00130.m4a</td>\n      <td>7.032150</td>\n      <td>m</td>\n      <td>id02019</td>\n    </tr>\n    <tr>\n      <th>2</th>\n      <td>tt/051a050o_1.2715_443o030c_-1.2715.wav</td>\n      <td>aac/id02086/1cJl_a8WpuY/00022.m4a</td>\n      <td>12.533820</td>\n      <td>f</td>\n      <td>id02086</td>\n    </tr>\n    <tr>\n      <th>3</th>\n      <td>tt/22ha0114_0.35843_441o030e_-0.35843.wav</td>\n      <td>aac/id02057/CI5-q_qTR5I/00112.m4a</td>\n      <td>18.661209</td>\n      <td>m</td>\n      <td>id02057</td>\n    </tr>\n    <tr>\n      <th>4</th>\n      <td>tt/442c020n_1.8408_444o030k_-1.8408.wav</td>\n      <td>aac/id01593/NuGK5k5cpoA/00279.m4a</td>\n      <td>6.360926</td>\n      <td>m</td>\n      <td>id01593</td>\n    </tr>\n  </tbody>\n</table>\n</div>"
     },
     "execution_count": 28,
     "metadata": {},
     "output_type": "execute_result"
    }
   ],
   "source": [
    "MixedFile = collections.namedtuple(\n",
    "    \"MixedFile\", (\"file_noise\", \"file_speech\", \"SNR\", \"gender\", \"speaker_id\")\n",
    ")\n",
    "\n",
    "files = []\n",
    "for i in range(NUM_SAMPLES):\n",
    "\n",
    "    file_speech = os.path.join(prefix_VoxCeleb, files_VoxCeleb[i])\n",
    "    file_noise = os.path.join(prefix_WHAM, files_WHAM[i])\n",
    "    snr = snr_values[i]\n",
    "    speaker_id = files_VoxCeleb[i].split(\"/\")[0]\n",
    "    gender = meta.loc[speaker_id, \"Gender\"]\n",
    "    files.append(\n",
    "        MixedFile(\n",
    "            file_noise=file_noise,\n",
    "            file_speech=file_speech,\n",
    "            SNR=snr,\n",
    "            gender=gender,\n",
    "            speaker_id=speaker_id\n",
    "        )\n",
    "    )\n",
    "\n",
    "files = pd.DataFrame(files)\n",
    "files.to_csv(os.path.join(WORKING_DIR, \"WHAMVox_test.csv\"), index=False)\n",
    "files.head()"
   ],
   "metadata": {
    "collapsed": false,
    "pycharm": {
     "name": "#%%\n"
    }
   }
  },
  {
   "cell_type": "markdown",
   "source": [
    "Verify that gender balance is okay."
   ],
   "metadata": {
    "collapsed": false,
    "pycharm": {
     "name": "#%% md\n"
    }
   }
  },
  {
   "cell_type": "code",
   "execution_count": 33,
   "outputs": [
    {
     "data": {
      "text/plain": "        file_noise  file_speech  SNR  gender  speaker_id\ngender                                                  \nf              968          968  968       1          37\nm              973          973  973       1          32",
      "text/html": "<div>\n<style scoped>\n    .dataframe tbody tr th:only-of-type {\n        vertical-align: middle;\n    }\n\n    .dataframe tbody tr th {\n        vertical-align: top;\n    }\n\n    .dataframe thead th {\n        text-align: right;\n    }\n</style>\n<table border=\"1\" class=\"dataframe\">\n  <thead>\n    <tr style=\"text-align: right;\">\n      <th></th>\n      <th>file_noise</th>\n      <th>file_speech</th>\n      <th>SNR</th>\n      <th>gender</th>\n      <th>speaker_id</th>\n    </tr>\n    <tr>\n      <th>gender</th>\n      <th></th>\n      <th></th>\n      <th></th>\n      <th></th>\n      <th></th>\n    </tr>\n  </thead>\n  <tbody>\n    <tr>\n      <th>f</th>\n      <td>968</td>\n      <td>968</td>\n      <td>968</td>\n      <td>1</td>\n      <td>37</td>\n    </tr>\n    <tr>\n      <th>m</th>\n      <td>973</td>\n      <td>973</td>\n      <td>973</td>\n      <td>1</td>\n      <td>32</td>\n    </tr>\n  </tbody>\n</table>\n</div>"
     },
     "execution_count": 33,
     "metadata": {},
     "output_type": "execute_result"
    }
   ],
   "source": [
    "\n",
    "files.groupby([\"gender\"]).nunique()"
   ],
   "metadata": {
    "collapsed": false,
    "pycharm": {
     "name": "#%%\n"
    }
   }
  }
 ],
 "metadata": {
  "kernelspec": {
   "display_name": "Python 3",
   "language": "python",
   "name": "python3"
  },
  "language_info": {
   "codemirror_mode": {
    "name": "ipython",
    "version": 2
   },
   "file_extension": ".py",
   "mimetype": "text/x-python",
   "name": "python",
   "nbconvert_exporter": "python",
   "pygments_lexer": "ipython2",
   "version": "2.7.6"
  }
 },
 "nbformat": 4,
 "nbformat_minor": 0
}